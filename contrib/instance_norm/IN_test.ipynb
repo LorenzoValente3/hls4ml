{
 "cells": [
  {
   "cell_type": "code",
   "execution_count": 1,
   "metadata": {},
   "outputs": [],
   "source": [
    "import instance_norm\n",
    "\n",
    "%load_ext autoreload\n",
    "%autoreload 2"
   ]
  },
  {
   "cell_type": "code",
   "execution_count": 2,
   "metadata": {},
   "outputs": [
    {
     "name": "stderr",
     "output_type": "stream",
     "text": [
      "2023-02-21 15:31:52.132373: I tensorflow/stream_executor/cuda/cuda_gpu_executor.cc:936] successful NUMA node read from SysFS had negative value (-1), but there must be at least one NUMA node, so returning NUMA node zero\n",
      "2023-02-21 15:31:52.158855: I tensorflow/stream_executor/cuda/cuda_gpu_executor.cc:936] successful NUMA node read from SysFS had negative value (-1), but there must be at least one NUMA node, so returning NUMA node zero\n",
      "2023-02-21 15:31:52.159181: I tensorflow/stream_executor/cuda/cuda_gpu_executor.cc:936] successful NUMA node read from SysFS had negative value (-1), but there must be at least one NUMA node, so returning NUMA node zero\n",
      "2023-02-21 15:31:52.160091: I tensorflow/core/platform/cpu_feature_guard.cc:151] This TensorFlow binary is optimized with oneAPI Deep Neural Network Library (oneDNN) to use the following CPU instructions in performance-critical operations:  AVX2 FMA\n",
      "To enable them in other operations, rebuild TensorFlow with the appropriate compiler flags.\n",
      "2023-02-21 15:31:52.160756: I tensorflow/stream_executor/cuda/cuda_gpu_executor.cc:936] successful NUMA node read from SysFS had negative value (-1), but there must be at least one NUMA node, so returning NUMA node zero\n",
      "2023-02-21 15:31:52.161047: I tensorflow/stream_executor/cuda/cuda_gpu_executor.cc:936] successful NUMA node read from SysFS had negative value (-1), but there must be at least one NUMA node, so returning NUMA node zero\n",
      "2023-02-21 15:31:52.161328: I tensorflow/stream_executor/cuda/cuda_gpu_executor.cc:936] successful NUMA node read from SysFS had negative value (-1), but there must be at least one NUMA node, so returning NUMA node zero\n",
      "2023-02-21 15:31:52.809290: I tensorflow/stream_executor/cuda/cuda_gpu_executor.cc:936] successful NUMA node read from SysFS had negative value (-1), but there must be at least one NUMA node, so returning NUMA node zero\n",
      "2023-02-21 15:31:52.809636: I tensorflow/stream_executor/cuda/cuda_gpu_executor.cc:936] successful NUMA node read from SysFS had negative value (-1), but there must be at least one NUMA node, so returning NUMA node zero\n",
      "2023-02-21 15:31:52.809928: I tensorflow/stream_executor/cuda/cuda_gpu_executor.cc:936] successful NUMA node read from SysFS had negative value (-1), but there must be at least one NUMA node, so returning NUMA node zero\n",
      "2023-02-21 15:31:52.810440: I tensorflow/core/common_runtime/gpu/gpu_device.cc:1525] Created device /job:localhost/replica:0/task:0/device:GPU:0 with 4033 MB memory:  -> device: 0, name: NVIDIA GeForce RTX 2060, pci bus id: 0000:01:00.0, compute capability: 7.5\n",
      "2023-02-21 15:31:53.741811: I tensorflow/stream_executor/cuda/cuda_dnn.cc:368] Loaded cuDNN version 8201\n",
      "2023-02-21 15:31:54.502812: I tensorflow/core/platform/default/subprocess.cc:304] Start cannot spawn child process: No such file or directory\n",
      "2023-02-21 15:31:54.503297: I tensorflow/core/platform/default/subprocess.cc:304] Start cannot spawn child process: No such file or directory\n",
      "2023-02-21 15:31:54.503313: W tensorflow/stream_executor/gpu/asm_compiler.cc:80] Couldn't get ptxas version string: INTERNAL: Couldn't invoke ptxas --version\n",
      "2023-02-21 15:31:54.503818: I tensorflow/core/platform/default/subprocess.cc:304] Start cannot spawn child process: No such file or directory\n",
      "2023-02-21 15:31:54.503861: W tensorflow/stream_executor/gpu/redzone_allocator.cc:314] INTERNAL: Failed to launch ptxas\n",
      "Relying on driver to perform ptx compilation. \n",
      "Modify $PATH to customize ptxas location.\n",
      "This message will be only logged once.\n"
     ]
    },
    {
     "name": "stdout",
     "output_type": "stream",
     "text": [
      "Interpreting Sequential\n",
      "Topology:\n",
      "Layer name: input_1, layer type: InputLayer, input shapes: [[None, 8, 8, 1]], output shape: [None, 8, 8, 1]\n",
      "Layer name: conv2d, layer type: Conv2D, input shapes: [[None, 8, 8, 1]], output shape: [None, 8, 8, 4]\n",
      "{'name': 'instance_normalization', 'class_name': 'Addons>InstanceNormalization', 'data_format': 'channels_last', 'epsilon': 0.001}\n",
      "Layer name: instance_normalization, layer type: Addons>InstanceNormalization, input shapes: [[None, 8, 8, 4]], output shape: [None, 8, 8, 4]\n",
      "Layer name: activation, layer type: Activation, input shapes: [[None, 8, 8, 4]], output shape: [None, 8, 8, 4]\n",
      "Layer name: flatten, layer type: Reshape, input shapes: [[None, 8, 8, 4]], output shape: [None, 256]\n",
      "Layer name: dense, layer type: Dense, input shapes: [[None, 256]], output shape: [None, 10]\n",
      "Creating HLS model\n",
      "Writing HLS project\n",
      "WARNING:tensorflow:Compiled the loaded model, but the compiled metrics have yet to be built. `model.compile_metrics` will be empty until you train or evaluate the model.\n",
      "Done\n"
     ]
    },
    {
     "name": "stderr",
     "output_type": "stream",
     "text": [
      "bash: /home/marco/miniconda3/envs/nn/lib/libtinfo.so.6: no version information available (required by bash)\n"
     ]
    },
    {
     "name": "stdout",
     "output_type": "stream",
     "text": [
      "[[[[-1.3358105 ]\n",
      "   [ 0.52277386]\n",
      "   [ 0.41188782]\n",
      "   [ 0.83701956]\n",
      "   [-1.1389397 ]\n",
      "   [-1.129679  ]\n",
      "   [ 0.37103564]\n",
      "   [ 0.28136915]]\n",
      "\n",
      "  [[ 0.23340112]\n",
      "   [ 0.26043248]\n",
      "   [ 1.1279125 ]\n",
      "   [-1.5533527 ]\n",
      "   [-1.0392368 ]\n",
      "   [ 0.533554  ]\n",
      "   [ 0.6549291 ]\n",
      "   [ 0.65630805]]\n",
      "\n",
      "  [[ 1.4520469 ]\n",
      "   [ 0.15949877]\n",
      "   [-1.4679029 ]\n",
      "   [-0.5582377 ]\n",
      "   [-0.009073  ]\n",
      "   [-1.1387527 ]\n",
      "   [ 0.15698719]\n",
      "   [-0.5862272 ]]\n",
      "\n",
      "  [[ 0.4189106 ]\n",
      "   [-0.9691195 ]\n",
      "   [ 0.04217685]\n",
      "   [ 0.0195233 ]\n",
      "   [ 0.23896746]\n",
      "   [-0.8940489 ]\n",
      "   [-0.6302697 ]\n",
      "   [ 0.23522514]]\n",
      "\n",
      "  [[-0.51678175]\n",
      "   [-1.1472471 ]\n",
      "   [ 0.57148623]\n",
      "   [-1.1914535 ]\n",
      "   [ 0.543472  ]\n",
      "   [ 0.02970235]\n",
      "   [-0.65900105]\n",
      "   [ 0.32922384]]\n",
      "\n",
      "  [[-0.57616705]\n",
      "   [ 0.06185671]\n",
      "   [ 0.29039207]\n",
      "   [ 0.28188753]\n",
      "   [ 0.48746568]\n",
      "   [-0.2792119 ]\n",
      "   [ 0.11451848]\n",
      "   [ 0.58950144]]\n",
      "\n",
      "  [[-1.0044664 ]\n",
      "   [-0.4663731 ]\n",
      "   [ 0.15600841]\n",
      "   [-1.4365084 ]\n",
      "   [ 1.5946208 ]\n",
      "   [-0.23102611]\n",
      "   [-0.6609023 ]\n",
      "   [ 0.42750922]]\n",
      "\n",
      "  [[ 0.90886325]\n",
      "   [-0.02430186]\n",
      "   [-0.6175232 ]\n",
      "   [-0.05993829]\n",
      "   [ 0.09994897]\n",
      "   [ 1.4112105 ]\n",
      "   [-0.77152115]\n",
      "   [-0.6442478 ]]]]\n",
      "Compare prediction by hls4ml model to Keras one\n",
      "/bin/bash: /home/marco/miniconda3/envs/nn/lib/libtinfo.so.6: no version information available (required by /bin/bash)\n",
      "/bin/bash: /home/marco/miniconda3/envs/nn/lib/libtinfo.so.6: no version information available (required by /bin/bash)\n"
     ]
    },
    {
     "name": "stderr",
     "output_type": "stream",
     "text": [
      "/bin/bash: /home/marco/miniconda3/envs/nn/lib/libtinfo.so.6: no version information available (required by /bin/bash)\n"
     ]
    },
    {
     "name": "stdout",
     "output_type": "stream",
     "text": [
      "\n",
      "****** Vivado(TM) HLS - High-Level Synthesis from C, C++ and SystemC v2020.1 (64-bit)\n",
      "  **** SW Build 2902540 on Wed May 27 19:54:35 MDT 2020\n",
      "  **** IP Build 2902112 on Wed May 27 22:43:36 MDT 2020\n",
      "    ** Copyright 1986-2020 Xilinx, Inc. All Rights Reserved.\n",
      "\n",
      "source /home/marco/tools/Xilinx/Vivado/2020.1/scripts/vivado_hls/hls.tcl -notrace\n",
      "INFO: Applying HLS Y2K22 patch v1.2 for IP revision\n",
      "INFO: [HLS 200-10] Running '/home/marco/tools/Xilinx/Vivado/2020.1/bin/unwrapped/lnx64.o/vivado_hls'\n",
      "INFO: [HLS 200-10] For user 'marco' on host 'WattMachine2' (Linux_x86_64 version 5.15.0-60-generic) on Tue Feb 21 15:32:03 CET 2023\n",
      "INFO: [HLS 200-10] On os Ubuntu 20.04.5 LTS\n",
      "INFO: [HLS 200-10] In directory '/home/marco/NN-projects/hls4ml_forked/hls4ml/contrib/instance_norm/hls4mlprj_IN'\n",
      "Sourcing Tcl script 'build_prj.tcl'\n",
      "INFO: [HLS 200-10] Opening project '/home/marco/NN-projects/hls4ml_forked/hls4ml/contrib/instance_norm/hls4mlprj_IN/myproject_prj'.\n",
      "INFO: [HLS 200-10] Adding design file 'firmware/myproject.cpp' to the project\n",
      "INFO: [HLS 200-10] Adding test bench file 'myproject_test.cpp' to the project\n",
      "INFO: [HLS 200-10] Adding test bench file 'firmware/weights' to the project\n",
      "INFO: [HLS 200-10] Adding test bench file 'tb_data' to the project\n",
      "INFO: [HLS 200-10] Opening solution '/home/marco/NN-projects/hls4ml_forked/hls4ml/contrib/instance_norm/hls4mlprj_IN/myproject_prj/solution1'.\n",
      "INFO: [SYN 201-201] Setting up clock 'default' with a period of 5ns.\n",
      "INFO: [HLS 200-10] Setting target device to 'xcu50-fsvh2104-2-e'\n",
      "INFO: [XFORM 203-101] Allowed max sub elements number after partition is 4096.\n",
      "INFO: [XFORM 203-1161] The maximum of name length is set into 60.\n",
      "INFO: [XFORM 203-101] Allowed max sub elements number after partition is 4096.\n",
      "INFO: [XFORM 203-1161] The maximum of name length is set into 60.\n",
      "INFO: [Common 17-206] Exiting vivado_hls at Tue Feb 21 15:32:05 2023...\n",
      "CSynthesis report not found.\n",
      "Vivado synthesis report not found.\n",
      "Cosim report not found.\n",
      "Timing report not found.\n"
     ]
    }
   ],
   "source": [
    "instance_norm.main()"
   ]
  }
 ],
 "metadata": {
  "kernelspec": {
   "display_name": "Python 3 (ipykernel)",
   "language": "python",
   "name": "python3"
  },
  "language_info": {
   "codemirror_mode": {
    "name": "ipython",
    "version": 3
   },
   "file_extension": ".py",
   "mimetype": "text/x-python",
   "name": "python",
   "nbconvert_exporter": "python",
   "pygments_lexer": "ipython3",
   "version": "3.8.15"
  },
  "vscode": {
   "interpreter": {
    "hash": "9be4317db5ac2a404dcdb4d46b671965ddd75cf519d843640e5a04935f656e43"
   }
  }
 },
 "nbformat": 4,
 "nbformat_minor": 2
}
